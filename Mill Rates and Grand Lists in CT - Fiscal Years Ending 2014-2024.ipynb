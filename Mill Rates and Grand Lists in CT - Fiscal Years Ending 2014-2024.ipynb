{
 "cells": [
  {
   "cell_type": "markdown",
   "id": "f78cfca9",
   "metadata": {},
   "source": [
    "# Does increasing the tax base lower property taxes?"
   ]
  },
  {
   "cell_type": "markdown",
   "id": "a74da8d8",
   "metadata": {},
   "source": [
    "## Background"
   ]
  },
  {
   "cell_type": "markdown",
   "id": "295f7e7a",
   "metadata": {},
   "source": [
    "A large commercial development might be coming to my town. It's a development that many residents oppose. One argument in favor of the development is that it would increase the tax base, and with more properties to tax, the town could lessen the burden on homeowners by lowering property taxes.\n",
    "\n",
    "This seems like a persuasive argument, but I wonder if there is any data to back it up."
   ]
  },
  {
   "cell_type": "markdown",
   "id": "334bdee4",
   "metadata": {},
   "source": [
    "## Research Questions"
   ]
  },
  {
   "cell_type": "markdown",
   "id": "2b7e04f0",
   "metadata": {},
   "source": [
    "1. Does my town have a history of lowering the mill rate when the grand list increases?\n",
    "3. How has Connecticut's average grand list and mill rate changed over time?"
   ]
  },
  {
   "cell_type": "markdown",
   "id": "2ad72e4b",
   "metadata": {},
   "source": [
    "## Findings"
   ]
  },
  {
   "cell_type": "markdown",
   "id": "e945e94e",
   "metadata": {},
   "source": [
    "* Since 2014, Connecticut's average grand list and mill rate have frequently increased together. The ideal scenario, where a grand list increases and the mill rate decreases, has occured less often. \n",
    "* For several years, as my town's grand list increased, so did its mill rate. However, in the last few years, the grand list has continued to increase while the mill rate has started to fall.\n",
    "* Similarly, the average grand list and mill rate in Connecticut increased together for several years, and only the mill rate has recently started to fall."
   ]
  },
  {
   "cell_type": "markdown",
   "id": "579e4d67",
   "metadata": {},
   "source": [
    "## Glossary"
   ]
  },
  {
   "cell_type": "markdown",
   "id": "a3a45f7d",
   "metadata": {},
   "source": [
    "* Mill Rate = Grand Levy / Grand List\n",
    "* Grand Levy: The amount of revenue required to operate the City for the fiscal year. (1)\n",
    "* Grand List: The total assessed value of all taxable property.\n",
    "* Grand List Year = The term used to label the taxes for a given fiscal year. The grand list is as of October 1; the assessor determines what that is by February 1. In May, the tax rates are set, and in July and the following January, tax bills come due for that grand list year.\n",
    "* Fiscal Year: July 1 through June 30. Taxes are based on the Grand List of the preceding October 1.\n",
    "\n",
    "1. Grand Levy = Mill Rate x Grand List"
   ]
  },
  {
   "cell_type": "markdown",
   "id": "ff88b4b1",
   "metadata": {},
   "source": [
    "## Notes"
   ]
  },
  {
   "cell_type": "markdown",
   "id": "a80cf8d3",
   "metadata": {},
   "source": [
    "* Some towns have service districts with different mill rates. Service districts were not included in this analysis.\n",
    "* The fiscal_year is the ending year. For example, fiscal_year 2018 is fiscal year 2017-2018.\n",
    "* Mill rates throughout a town can vary depending on services received and district location."
   ]
  },
  {
   "cell_type": "markdown",
   "id": "25208544",
   "metadata": {},
   "source": [
    "## Preprocessing"
   ]
  },
  {
   "cell_type": "markdown",
   "id": "a89c5515",
   "metadata": {},
   "source": [
    "* Imported packages.\n",
    "* Used an API to import mill rate and grand list data from the State of Connecticut's website.\n",
    "* Created new keys and used an inner join to combine the data.\n",
    "* Inspected and dropped observations based on null and outlier values. (1) \n",
    "* Copied mill_rate_real_personal and mill_rate values into a new column. (2)\n",
    "* Converted data types to numeric as needed.\n",
    "* Sorted rows by town and grand list year in order to calculate percent changes.\n",
    "* Calculated percent changes to mill rate and grand list and saved to new columns. (3)\n",
    "\n",
    "1. Each observation must have a mill_rate_real_personal value or a mill_rate value. Stamford's 2019 data was dropped because some values were too small to be correct.\n",
    "2. In fiscal year 2021, some towns began using the mill_rate_real_personal label instead of mill_rate.\n",
    "3. I'm using total_equalized values for the grand lists. The total_equalized values exclude non-taxable property."
   ]
  },
  {
   "cell_type": "code",
   "execution_count": null,
   "id": "c21310e1",
   "metadata": {
    "scrolled": false
   },
   "outputs": [],
   "source": [
    "# import packages\n",
    "import pandas as pd\n",
    "import numpy as np\n",
    "from scipy import stats\n",
    "from matplotlib import pyplot as plt\n",
    "%matplotlib inline\n",
    "import seaborn as sns\n",
    "from sodapy import Socrata"
   ]
  },
  {
   "cell_type": "code",
   "execution_count": null,
   "id": "fca890a0",
   "metadata": {
    "scrolled": false
   },
   "outputs": [],
   "source": [
    "# import mill rates\n",
    "client_mill = Socrata('data.ct.gov', None)\n",
    "results_mill = client_mill.get('emyx-j53e', limit=5000)\n",
    "df_mill = pd.DataFrame.from_records(results_mill)"
   ]
  },
  {
   "cell_type": "code",
   "execution_count": null,
   "id": "b142d9ae",
   "metadata": {
    "scrolled": false
   },
   "outputs": [],
   "source": [
    "# import grand lists\n",
    "client_grand = Socrata('data.ct.gov', None)\n",
    "results_grand = client_grand.get('8rr8-a322', limit=5000)\n",
    "df_grand = pd.DataFrame.from_records(results_grand)"
   ]
  },
  {
   "cell_type": "code",
   "execution_count": null,
   "id": "ca25441c",
   "metadata": {
    "scrolled": false
   },
   "outputs": [],
   "source": [
    "# create keys to join the dataframes\n",
    "df_mill['key'] = df_mill['municipality'] + df_mill['grand_list_year']\n",
    "df_grand['key'] = df_grand['town_name'] + df_grand['grand_list_year'] "
   ]
  },
  {
   "cell_type": "code",
   "execution_count": null,
   "id": "79b2e547",
   "metadata": {
    "scrolled": false
   },
   "outputs": [],
   "source": [
    "# join dataframes\n",
    "df_join = df_mill.set_index('key').join(df_grand.set_index('key'), how='inner', lsuffix='_mill', rsuffix='_grand').sort_values(by=['key'])"
   ]
  },
  {
   "cell_type": "code",
   "execution_count": null,
   "id": "b624c1f7",
   "metadata": {
    "scrolled": false
   },
   "outputs": [],
   "source": [
    "# inspect the new dataframe\n",
    "df_join"
   ]
  },
  {
   "cell_type": "code",
   "execution_count": null,
   "id": "8bad232c",
   "metadata": {
    "scrolled": false
   },
   "outputs": [],
   "source": [
    "# inspect nulls\n",
    "mill_rate_real_personal_and_mill_rate_are_null = df_join[df_join.mill_rate_real_personal.isnull() & df_join.mill_rate.isnull()]\n",
    "print(len(mill_rate_real_personal_and_mill_rate_are_null))"
   ]
  },
  {
   "cell_type": "code",
   "execution_count": null,
   "id": "defe12f5",
   "metadata": {
    "scrolled": false
   },
   "outputs": [],
   "source": [
    "# drop nulls\n",
    "df_drop = df_join.drop(mill_rate_real_personal_and_mill_rate_are_null.index)"
   ]
  },
  {
   "cell_type": "code",
   "execution_count": null,
   "id": "9612e9dc",
   "metadata": {
    "scrolled": false
   },
   "outputs": [],
   "source": [
    "# drop Stamford outlier\n",
    "df_drop = df_drop.drop('Stamford2019')"
   ]
  },
  {
   "cell_type": "code",
   "execution_count": null,
   "id": "a179b92b",
   "metadata": {
    "scrolled": false
   },
   "outputs": [],
   "source": [
    "# new column - mill_real\n",
    "df_new_column = df_drop\n",
    "df_new_column['mill_real'] = df_new_column['mill_rate_real_personal']\n",
    "\n",
    "# if mill_rate_real_property is null, use mill_rate instead\n",
    "df_new_column['mill_real'].fillna(df_new_column['mill_rate'], inplace = True)"
   ]
  },
  {
   "cell_type": "code",
   "execution_count": null,
   "id": "8392edae",
   "metadata": {
    "scrolled": false
   },
   "outputs": [],
   "source": [
    "# convert columns to numeric\n",
    "df = df_new_column.apply(pd.to_numeric, errors='ignore')"
   ]
  },
  {
   "cell_type": "code",
   "execution_count": null,
   "id": "0b2ff564",
   "metadata": {
    "scrolled": false
   },
   "outputs": [],
   "source": [
    "# inspect data\n",
    "print('Mill Rate - mean', '\\n', df.groupby('fiscal_year')['mill_real'].mean(), '\\n')\n",
    "print('Grand List - mean', '\\n', df.groupby('fiscal_year')['total_equalized'].mean(), '\\n')"
   ]
  },
  {
   "cell_type": "code",
   "execution_count": null,
   "id": "1a06627a",
   "metadata": {
    "scrolled": false
   },
   "outputs": [],
   "source": [
    "# create new dataframe\n",
    "df_pc = df.sort_values(by=['town_name', 'fiscal_year'])"
   ]
  },
  {
   "cell_type": "code",
   "execution_count": null,
   "id": "15158f74",
   "metadata": {
    "scrolled": false
   },
   "outputs": [],
   "source": [
    "# new column\n",
    "all_towns = pd.Series([])\n",
    "\n",
    "for x in df_pc.town_name.unique():\n",
    "    town_data = pd.Series(df_pc[df_pc.town_name == x].mill_real.pct_change())\n",
    "    all_towns = pd.concat([all_towns, town_data])\n",
    "\n",
    "df_pc['mill_real_pct_change'] = all_towns"
   ]
  },
  {
   "cell_type": "code",
   "execution_count": null,
   "id": "2a8cf40e",
   "metadata": {
    "scrolled": false
   },
   "outputs": [],
   "source": [
    "# new column\n",
    "all_towns = pd.Series([])\n",
    "\n",
    "for x in df_pc.town_name.unique():\n",
    "    town_data = pd.Series(df_pc[df_pc.town_name == x].total_equalized.pct_change())\n",
    "    all_towns = pd.concat([all_towns, town_data])\n",
    "\n",
    "df_pc['total_equalized_pct_change'] = all_towns"
   ]
  },
  {
   "cell_type": "markdown",
   "id": "c77a0548",
   "metadata": {},
   "source": [
    "## Town Data & Graphs"
   ]
  },
  {
   "cell_type": "markdown",
   "id": "a6a79886",
   "metadata": {},
   "source": [
    "### SELECT A TOWN:"
   ]
  },
  {
   "cell_type": "code",
   "execution_count": null,
   "id": "380ac5ee",
   "metadata": {
    "scrolled": false
   },
   "outputs": [],
   "source": [
    "# get user input\n",
    "print(df_pc['town_name'].unique())\n",
    "town = input('Enter town name:').title()"
   ]
  },
  {
   "cell_type": "code",
   "execution_count": null,
   "id": "f56767ab",
   "metadata": {
    "scrolled": false
   },
   "outputs": [],
   "source": [
    "# display means\n",
    "print(town, '- Mill Rate - mean')\n",
    "print(df[df.town_name == town].groupby('fiscal_year')['mill_real'].mean(), '\\n')\n",
    "print(town, '- Grand List - mean')\n",
    "print(df[df.town_name == town].groupby('fiscal_year')['total_equalized'].mean(), '\\n')"
   ]
  },
  {
   "cell_type": "code",
   "execution_count": null,
   "id": "198cd81c",
   "metadata": {
    "scrolled": false
   },
   "outputs": [],
   "source": [
    "# plot mill rate and grand list\n",
    "y_mrate = df[df.town_name == town].groupby('fiscal_year')['mill_real'].mean()\n",
    "y_glist = df[df.town_name == town].groupby('fiscal_year')['total_equalized'].mean()\n",
    "\n",
    "fig, ax1 = plt.subplots()\n",
    "fig.suptitle(town)\n",
    "\n",
    "color = 'tab:red'\n",
    "ax1.set_xlabel('Fiscal Year')\n",
    "ax1.set_ylabel('Mill Rate', color=color)\n",
    "ax1.plot(y_mrate, color=color)\n",
    "ax1.tick_params(axis='y', labelcolor=color)\n",
    "\n",
    "ax2 = ax1.twinx()  # instantiate a second axes that shares the same x-axis\n",
    "\n",
    "color = 'tab:blue'\n",
    "ax2.set_ylabel('Grand List', color=color)  # we already handled the x-label with ax1\n",
    "ax2.plot(y_glist, color=color)\n",
    "ax2.tick_params(axis='y', labelcolor=color)\n",
    "\n",
    "fig.tight_layout()  # otherwise the right y-label is slightly clipped\n",
    "plt.show()"
   ]
  },
  {
   "cell_type": "code",
   "execution_count": null,
   "id": "589a5d2d",
   "metadata": {
    "scrolled": false
   },
   "outputs": [],
   "source": [
    "# display percent change\n",
    "print(town, '- Mill Rate - percent change')\n",
    "print(df_pc[df_pc.town_name == town]['mill_real_pct_change'], '\\n')\n",
    "print(town, '- Grand List - percent change')\n",
    "print(df_pc[df_pc.town_name == town]['total_equalized_pct_change'], '\\n')"
   ]
  },
  {
   "cell_type": "code",
   "execution_count": null,
   "id": "5ed7c46b",
   "metadata": {
    "scrolled": false
   },
   "outputs": [],
   "source": [
    "# plot mill rate and grand list percent change\n",
    "x = df_pc[df_pc.town_name == town]['total_equalized_pct_change']*100\n",
    "y = df_pc[df_pc.town_name == town]['mill_real_pct_change']*100\n",
    "\n",
    "plt.title(town + ' - Percent Change - mill rate') \n",
    "plt.xlabel('Grand List') \n",
    "plt.ylabel('Mill Rate') \n",
    "plt.scatter(x,y) \n",
    "plt.axhline(0,color='red') # x = 0\n",
    "plt.axvline(0,color='red') # y = 0\n",
    "plt.show()"
   ]
  },
  {
   "cell_type": "code",
   "execution_count": null,
   "id": "6a7dac02",
   "metadata": {
    "scrolled": false
   },
   "outputs": [],
   "source": [
    "# scenario count - mill rate and grand list\n",
    "q1 = df_pc[(df_pc.town_name == town) & (df_pc.total_equalized_pct_change < 0) & (df_pc.mill_real_pct_change > 0)]\n",
    "q2 = df_pc[(df_pc.town_name == town) & (df_pc.total_equalized_pct_change > 0) & (df_pc.mill_real_pct_change > 0)]\n",
    "q3 = df_pc[(df_pc.town_name == town) & (df_pc.total_equalized_pct_change > 0) & (df_pc.mill_real_pct_change < 0)]\n",
    "q4 = df_pc[(df_pc.town_name == town) & (df_pc.total_equalized_pct_change < 0) & (df_pc.mill_real_pct_change < 0)]\n",
    "pos_0 = df_pc[(df_pc.town_name == town) & (df_pc.total_equalized_pct_change > 0) & (df_pc.mill_real_pct_change == 0)]\n",
    "neg_0 = df_pc[(df_pc.town_name == town) & (df_pc.total_equalized_pct_change < 0) & (df_pc.mill_real_pct_change == 0)]\n",
    "zeros = df_pc[(df_pc.town_name == town) & (df_pc.total_equalized_pct_change == 0) & (df_pc.mill_real_pct_change == 0)]\n",
    "\n",
    "print(town + \" - scenarios - mill rate\")\n",
    "print('  grand - mill + ', len(q1), '\\n', ' grand + mill + ', len(q2), '\\n', '*grand + mill - ', len(q3), '\\n', ' grand - mill - ', len(q4), '\\n', ' grand + mill 0 ', len(pos_0), '\\n', ' grand - mill 0 ', len(neg_0), '\\n', ' grand 0 mill 0 ', len(zeros))"
   ]
  },
  {
   "cell_type": "code",
   "execution_count": null,
   "id": "ab1aff40",
   "metadata": {
    "scrolled": false
   },
   "outputs": [],
   "source": [
    "# correlation - mill rate and grand list\n",
    "df_cor_town = df_pc[df_pc.town_name == town]\n",
    "df_cor_town = df_cor_town[['mill_real_pct_change', 'total_equalized_pct_change']]\n",
    "df_matrix = df_cor_town.corr().round(2)\n",
    "\n",
    "sns.heatmap(df_matrix, annot=True, vmax = 1, vmin = -1, center = 0, cmap = 'vlag')\n",
    "plt.title(town + ' - correlations - mill rate')\n",
    "plt.yticks(rotation='horizontal')\n",
    "plt.show()"
   ]
  },
  {
   "cell_type": "markdown",
   "id": "f01014c0",
   "metadata": {},
   "source": [
    "## State Data & Graphs"
   ]
  },
  {
   "cell_type": "code",
   "execution_count": null,
   "id": "c4ed1cac",
   "metadata": {
    "scrolled": false
   },
   "outputs": [],
   "source": [
    "# plot mill rate and grand list\n",
    "y_mrate = df.groupby('fiscal_year')['mill_real'].mean()\n",
    "y_glist = df.groupby('fiscal_year')['total_equalized'].mean()\n",
    "\n",
    "fig, ax1 = plt.subplots()\n",
    "fig.suptitle('All Towns - mill rate')\n",
    "\n",
    "color = 'tab:red'\n",
    "ax1.set_xlabel('Fiscal Year')\n",
    "ax1.set_ylabel('Mill Rate', color=color)\n",
    "ax1.plot(y_mrate, color=color)\n",
    "ax1.tick_params(axis='y', labelcolor=color)\n",
    "\n",
    "ax2 = ax1.twinx()  # instantiate a second axes that shares the same x-axis\n",
    "\n",
    "color = 'tab:blue'\n",
    "ax2.set_ylabel('Grand List', color=color)  # we already handled the x-label with ax1\n",
    "ax2.plot(y_glist, color=color)\n",
    "ax2.tick_params(axis='y', labelcolor=color)\n",
    "\n",
    "fig.tight_layout()  # otherwise the right y-label is slightly clipped\n",
    "plt.show()"
   ]
  },
  {
   "cell_type": "code",
   "execution_count": null,
   "id": "2b367fcd",
   "metadata": {
    "scrolled": false
   },
   "outputs": [],
   "source": [
    "# display percent change\n",
    "print('All Towns - Mill Rate - percent change')\n",
    "print(df_pc['mill_real_pct_change'], '\\n')\n",
    "print('All Towns - Grand List - percent change')\n",
    "print(df_pc['total_equalized_pct_change'], '\\n')"
   ]
  },
  {
   "cell_type": "code",
   "execution_count": null,
   "id": "fe34f221",
   "metadata": {
    "scrolled": false
   },
   "outputs": [],
   "source": [
    "# plot mill rate and grand list percent change\n",
    "x = df_pc['total_equalized_pct_change']*100\n",
    "y = df_pc['mill_real_pct_change']*100\n",
    "\n",
    "plt.title('All Towns - Percent Change - mill rate') \n",
    "plt.xlabel('Grand List') \n",
    "plt.ylabel('Mill Rate') \n",
    "plt.scatter(x,y) \n",
    "plt.axhline(0,color='red') # x = 0\n",
    "plt.axvline(0,color='red') # y = 0\n",
    "plt.show()"
   ]
  },
  {
   "cell_type": "code",
   "execution_count": null,
   "id": "d37a10b4",
   "metadata": {
    "scrolled": false
   },
   "outputs": [],
   "source": [
    "# scenario count - mill rate and grand list\n",
    "q1 = df_pc[(df_pc.total_equalized_pct_change < 0) & (df_pc.mill_real_pct_change > 0)]\n",
    "q2 = df_pc[(df_pc.total_equalized_pct_change > 0) & (df_pc.mill_real_pct_change > 0)]\n",
    "q3 = df_pc[(df_pc.total_equalized_pct_change > 0) & (df_pc.mill_real_pct_change < 0)]\n",
    "q4 = df_pc[(df_pc.total_equalized_pct_change < 0) & (df_pc.mill_real_pct_change < 0)]\n",
    "pos_0 = df_pc[(df_pc.total_equalized_pct_change > 0) & (df_pc.mill_real_pct_change == 0)]\n",
    "neg_0 = df_pc[(df_pc.total_equalized_pct_change < 0) & (df_pc.mill_real_pct_change == 0)]\n",
    "zeros = df_pc[(df_pc.total_equalized_pct_change == 0) & (df_pc.mill_real_pct_change == 0)]\n",
    "\n",
    "print('All Towns - scenarios - mill rate')\n",
    "print('  grand - mill + ', len(q1), '\\n', ' grand + mill + ', len(q2), '\\n', '*grand + mill - ', len(q3), '\\n', ' grand - mill - ', len(q4), '\\n', ' grand + mill 0 ', len(pos_0), '\\n', ' grand - mill 0 ', len(neg_0), '\\n', ' grand 0 mill 0 ', len(zeros))"
   ]
  },
  {
   "cell_type": "code",
   "execution_count": null,
   "id": "2b87012f",
   "metadata": {
    "scrolled": false
   },
   "outputs": [],
   "source": [
    "# correlation - mill rate and grand list\n",
    "df_cor_state = df_pc[['mill_real_pct_change', 'total_equalized_pct_change']]\n",
    "df_matrix = df_cor_state.corr().round(2)\n",
    "\n",
    "sns.heatmap(df_matrix, annot=True, vmax = 1, vmin = -1, center = 0, cmap = 'vlag')\n",
    "plt.title('All Towns - correlations - mill rate')\n",
    "plt.yticks(rotation='horizontal')\n",
    "plt.show()"
   ]
  }
 ],
 "metadata": {
  "kernelspec": {
   "display_name": "Python 3 (ipykernel)",
   "language": "python",
   "name": "python3"
  },
  "language_info": {
   "codemirror_mode": {
    "name": "ipython",
    "version": 3
   },
   "file_extension": ".py",
   "mimetype": "text/x-python",
   "name": "python",
   "nbconvert_exporter": "python",
   "pygments_lexer": "ipython3",
   "version": "3.11.4"
  }
 },
 "nbformat": 4,
 "nbformat_minor": 5
}
