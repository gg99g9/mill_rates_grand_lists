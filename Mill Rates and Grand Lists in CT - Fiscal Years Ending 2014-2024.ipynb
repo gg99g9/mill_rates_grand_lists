{
 "cells": [
  {
   "cell_type": "markdown",
   "id": "f78cfca9",
   "metadata": {},
   "source": [
    "# Does development lead to lower taxes?"
   ]
  },
  {
   "cell_type": "markdown",
   "id": "25208544",
   "metadata": {},
   "source": [
    "## Preprocessing"
   ]
  },
  {
   "cell_type": "code",
   "execution_count": null,
   "id": "c21310e1",
   "metadata": {},
   "outputs": [],
   "source": [
    "# import packages\n",
    "import pandas as pd\n",
    "import numpy as np\n",
    "from matplotlib import pyplot as plt\n",
    "import seaborn as sns\n",
    "from sodapy import Socrata"
   ]
  },
  {
   "cell_type": "code",
   "execution_count": null,
   "id": "fca890a0",
   "metadata": {
    "scrolled": true
   },
   "outputs": [],
   "source": [
    "# import mill rates\n",
    "client_mill = Socrata('data.ct.gov', None)\n",
    "results_mill = client_mill.get('emyx-j53e', limit=5000)\n",
    "df_mill = pd.DataFrame.from_records(results_mill)\n",
    "pd.reset_option('display.max_rows')"
   ]
  },
  {
   "cell_type": "code",
   "execution_count": null,
   "id": "0ba34663",
   "metadata": {},
   "outputs": [],
   "source": [
    "# inspect data\n",
    "df_mill.info()"
   ]
  },
  {
   "cell_type": "code",
   "execution_count": null,
   "id": "b142d9ae",
   "metadata": {},
   "outputs": [],
   "source": [
    "# import grand lists\n",
    "client_grand = Socrata('data.ct.gov', None)\n",
    "results_grand = client_grand.get('8rr8-a322', limit=5000)\n",
    "df_grand = pd.DataFrame.from_records(results_grand)\n",
    "pd.reset_option('display.max_rows')"
   ]
  },
  {
   "cell_type": "code",
   "execution_count": null,
   "id": "5cad1636",
   "metadata": {},
   "outputs": [],
   "source": [
    "# inspect data\n",
    "df_grand.info()"
   ]
  },
  {
   "cell_type": "code",
   "execution_count": null,
   "id": "ca25441c",
   "metadata": {},
   "outputs": [],
   "source": [
    "# create keys\n",
    "df_mill['key'] = df_mill['municipality'] + df_mill['grand_list_year']\n",
    "df_grand['key'] = df_grand['town_name'] + df_grand['grand_list_year'] "
   ]
  },
  {
   "cell_type": "code",
   "execution_count": null,
   "id": "79b2e547",
   "metadata": {},
   "outputs": [],
   "source": [
    "# join dataframes\n",
    "df_join = df_mill.set_index('key').join(df_grand.set_index('key'), how='inner', lsuffix='_mill', rsuffix='_grand').sort_values(by=['key'])"
   ]
  },
  {
   "cell_type": "code",
   "execution_count": null,
   "id": "b624c1f7",
   "metadata": {},
   "outputs": [],
   "source": [
    "df_join"
   ]
  },
  {
   "cell_type": "code",
   "execution_count": null,
   "id": "8bad232c",
   "metadata": {},
   "outputs": [],
   "source": [
    "# inspect nulls\n",
    "mill_rate_real_personal_and_mill_rate_are_null = df_join[df_join.mill_rate_real_personal.isnull() & df_join.mill_rate.isnull()]\n",
    "print(len(mill_rate_real_personal_and_mill_rate_are_null))"
   ]
  },
  {
   "cell_type": "code",
   "execution_count": null,
   "id": "defe12f5",
   "metadata": {},
   "outputs": [],
   "source": [
    "# drop nulls\n",
    "df_drop = df_join.drop(mill_rate_real_personal_and_mill_rate_are_null.index)"
   ]
  },
  {
   "cell_type": "code",
   "execution_count": null,
   "id": "9612e9dc",
   "metadata": {},
   "outputs": [],
   "source": [
    "# drop Stamford outlier\n",
    "df_drop = df_drop.drop('Stamford2019')"
   ]
  },
  {
   "cell_type": "code",
   "execution_count": null,
   "id": "a179b92b",
   "metadata": {},
   "outputs": [],
   "source": [
    "# new column\n",
    "df_new_column = df_drop\n",
    "df_new_column['mill_real'] = df_new_column['mill_rate_real_personal']\n",
    "\n",
    "# if mill_rate_real_property is null, use mill_rate instead\n",
    "df_new_column['mill_real'].fillna(df_new_column['mill_rate'], inplace = True)"
   ]
  },
  {
   "cell_type": "code",
   "execution_count": null,
   "id": "45432723",
   "metadata": {},
   "outputs": [],
   "source": [
    "# convert columns to numeric\n",
    "df = df_new_column.apply(pd.to_numeric, errors='ignore')"
   ]
  },
  {
   "cell_type": "code",
   "execution_count": null,
   "id": "0b2ff564",
   "metadata": {
    "scrolled": true
   },
   "outputs": [],
   "source": [
    "# inspect data\n",
    "print('Mill Rate - mean', '\\n', df.groupby('fiscal_year')['mill_real'].mean(), '\\n')\n",
    "print('Grand List - mean', '\\n', df.groupby('fiscal_year')['total_equalized'].mean())"
   ]
  },
  {
   "cell_type": "code",
   "execution_count": null,
   "id": "1a06627a",
   "metadata": {},
   "outputs": [],
   "source": [
    "# create new dataframe\n",
    "df_pc = df.sort_values(by=['town_name', 'fiscal_year'])"
   ]
  },
  {
   "cell_type": "code",
   "execution_count": null,
   "id": "15158f74",
   "metadata": {},
   "outputs": [],
   "source": [
    "# new column\n",
    "all_towns = pd.Series([])\n",
    "\n",
    "for x in df_pc.town_name.unique():\n",
    "    town_data = pd.Series(df_pc[df_pc.town_name == x].mill_real.pct_change())\n",
    "    all_towns = pd.concat([all_towns, town_data])\n",
    "\n",
    "df_pc['mill_real_pct_change'] = all_towns"
   ]
  },
  {
   "cell_type": "code",
   "execution_count": null,
   "id": "2a8cf40e",
   "metadata": {},
   "outputs": [],
   "source": [
    "# new column\n",
    "all_towns = pd.Series([])\n",
    "\n",
    "for x in df_pc.town_name.unique():\n",
    "    town_data = pd.Series(df_pc[df_pc.town_name == x].total_equalized.pct_change())\n",
    "    all_towns = pd.concat([all_towns, town_data])\n",
    "\n",
    "df_pc['total_equalized_pct_change'] = all_towns"
   ]
  },
  {
   "cell_type": "markdown",
   "id": "c77a0548",
   "metadata": {},
   "source": [
    "## Town Data & Graphs"
   ]
  },
  {
   "cell_type": "code",
   "execution_count": null,
   "id": "380ac5ee",
   "metadata": {},
   "outputs": [],
   "source": [
    "# get user input\n",
    "town = input('Enter town name: ').title()"
   ]
  },
  {
   "cell_type": "code",
   "execution_count": null,
   "id": "f56767ab",
   "metadata": {},
   "outputs": [],
   "source": [
    "# display means\n",
    "print(town, '- Mill Rate - mean')\n",
    "print(df[df.town_name == town].groupby('fiscal_year')['mill_real'].mean(), '\\n')\n",
    "print(town, '- Grand List - mean')\n",
    "print(df[df.town_name == town].groupby('fiscal_year')['total_equalized'].mean())"
   ]
  },
  {
   "cell_type": "code",
   "execution_count": null,
   "id": "198cd81c",
   "metadata": {
    "scrolled": true
   },
   "outputs": [],
   "source": [
    "# graph data\n",
    "y_mr = df[df.town_name == town].groupby('fiscal_year')['mill_real'].mean()\n",
    "y_gl = df[df.town_name == town].groupby('fiscal_year')['total_equalized'].mean()\n",
    "\n",
    "fig, ax1 = plt.subplots()\n",
    "fig.suptitle(town)\n",
    "\n",
    "color = 'tab:red'\n",
    "ax1.set_xlabel('Fiscal Year')\n",
    "ax1.set_ylabel('Mill Rate', color=color)\n",
    "ax1.plot(y_mr, color=color)\n",
    "ax1.tick_params(axis='y', labelcolor=color)\n",
    "\n",
    "ax2 = ax1.twinx()  # instantiate a second axes that shares the same x-axis\n",
    "\n",
    "color = 'tab:blue'\n",
    "ax2.set_ylabel('Grand List', color=color)  # we already handled the x-label with ax1\n",
    "ax2.plot(y_gl, color=color)\n",
    "ax2.tick_params(axis='y', labelcolor=color)\n",
    "\n",
    "fig.tight_layout()  # otherwise the right y-label is slightly clipped\n",
    "plt.show()"
   ]
  },
  {
   "cell_type": "code",
   "execution_count": null,
   "id": "589a5d2d",
   "metadata": {},
   "outputs": [],
   "source": [
    "# display percent change\n",
    "print(town, '- Mill Rate - percent change')\n",
    "print(df_pc[df_pc.town_name == town]['mill_real_pct_change'], '\\n')\n",
    "print(town, '- Grand List - percent change')\n",
    "print(df_pc[df_pc.town_name == town]['total_equalized_pct_change'])"
   ]
  },
  {
   "cell_type": "code",
   "execution_count": null,
   "id": "5ed7c46b",
   "metadata": {},
   "outputs": [],
   "source": [
    "# graph data\n",
    "x = df_pc[df_pc.town_name == town]['total_equalized_pct_change']*100\n",
    "y = df_pc[df_pc.town_name == town]['mill_real_pct_change']*100\n",
    "\n",
    "plt.title(town + ' - Percent Change') \n",
    "plt.xlabel('Grand List') \n",
    "plt.ylabel('Mill Rate') \n",
    "plt.scatter(x,y) \n",
    "plt.axhline(0,color='red') # x = 0\n",
    "plt.axvline(0,color='red') # y = 0\n",
    "plt.show()"
   ]
  },
  {
   "cell_type": "code",
   "execution_count": null,
   "id": "6a7dac02",
   "metadata": {},
   "outputs": [],
   "source": [
    "# scenario count\n",
    "q1 = df_pc[(df_pc.town_name == town) & (df_pc.total_equalized_pct_change < 0) & (df_pc.mill_real_pct_change > 0)]\n",
    "q2 = df_pc[(df_pc.town_name == town) & (df_pc.total_equalized_pct_change > 0) & (df_pc.mill_real_pct_change > 0)]\n",
    "q3 = df_pc[(df_pc.town_name == town) & (df_pc.total_equalized_pct_change > 0) & (df_pc.mill_real_pct_change < 0)]\n",
    "q4 = df_pc[(df_pc.town_name == town) & (df_pc.total_equalized_pct_change < 0) & (df_pc.mill_real_pct_change < 0)]\n",
    "pos_0 = df_pc[(df_pc.town_name == town) & (df_pc.total_equalized_pct_change > 0) & (df_pc.mill_real_pct_change == 0)]\n",
    "neg_0 = df_pc[(df_pc.town_name == town) & (df_pc.total_equalized_pct_change < 0) & (df_pc.mill_real_pct_change == 0)]\n",
    "zeros = df_pc[(df_pc.town_name == town) & (df_pc.total_equalized_pct_change == 0) & (df_pc.mill_real_pct_change == 0)]\n",
    "\n",
    "print(town + \" - scenarios\")\n",
    "print('  grand - mill + ', len(q1), '\\n', ' grand + mill + ', len(q2), '\\n', '*grand + mill - ', len(q3), '\\n', ' grand - mill - ', len(q4), '\\n', ' grand + mill 0 ', len(pos_0), '\\n', ' grand - mill 0 ', len(neg_0), '\\n', ' grand 0 mill 0 ', len(zeros))"
   ]
  },
  {
   "cell_type": "code",
   "execution_count": null,
   "id": "ab1aff40",
   "metadata": {},
   "outputs": [],
   "source": [
    "# graph data\n",
    "df_cor_town = df_pc[df_pc.town_name == town]\n",
    "df_cor_town = df_cor_town[['mill_real_pct_change', 'total_equalized_pct_change']]\n",
    "df_matrix = df_cor_town.corr().round(2)\n",
    "\n",
    "sns.heatmap(df_matrix, annot=True, vmax = 1, vmin = -1, center = 0, cmap = 'vlag')\n",
    "plt.title(town + ' - correlations')\n",
    "plt.yticks(rotation='horizontal')\n",
    "plt.show()"
   ]
  },
  {
   "cell_type": "markdown",
   "id": "f01014c0",
   "metadata": {},
   "source": [
    "## State Data & Graphs"
   ]
  },
  {
   "cell_type": "code",
   "execution_count": null,
   "id": "c4ed1cac",
   "metadata": {},
   "outputs": [],
   "source": [
    "# graph data\n",
    "y_mr = df.groupby('fiscal_year')['mill_real'].mean()\n",
    "y_gl = df.groupby('fiscal_year')['total_equalized'].mean()\n",
    "\n",
    "fig, ax1 = plt.subplots()\n",
    "fig.suptitle('All Towns')\n",
    "\n",
    "color = 'tab:red'\n",
    "ax1.set_xlabel('Fiscal Year')\n",
    "ax1.set_ylabel('Mill Rate', color=color)\n",
    "ax1.plot(y_mr, color=color)\n",
    "ax1.tick_params(axis='y', labelcolor=color)\n",
    "\n",
    "ax2 = ax1.twinx()  # instantiate a second axes that shares the same x-axis\n",
    "\n",
    "color = 'tab:blue'\n",
    "ax2.set_ylabel('Grand List', color=color)  # we already handled the x-label with ax1\n",
    "ax2.plot(y_gl, color=color)\n",
    "ax2.tick_params(axis='y', labelcolor=color)\n",
    "\n",
    "fig.tight_layout()  # otherwise the right y-label is slightly clipped\n",
    "plt.show()"
   ]
  },
  {
   "cell_type": "code",
   "execution_count": null,
   "id": "2b367fcd",
   "metadata": {},
   "outputs": [],
   "source": [
    "# display percent change\n",
    "print('All Towns - Mill Rate - percent change')\n",
    "print(df_pc['mill_real_pct_change'], '\\n')\n",
    "print('All Towns - Grand List - percent change')\n",
    "print(df_pc['total_equalized_pct_change'])"
   ]
  },
  {
   "cell_type": "code",
   "execution_count": null,
   "id": "fe34f221",
   "metadata": {},
   "outputs": [],
   "source": [
    "# graph data\n",
    "x = df_pc['total_equalized_pct_change']*100\n",
    "y = df_pc['mill_real_pct_change']*100\n",
    "\n",
    "plt.title('All Towns - Percent Change') \n",
    "plt.xlabel('Grand List') \n",
    "plt.ylabel('Mill Rate') \n",
    "plt.scatter(x,y) \n",
    "plt.axhline(0,color='red') # x = 0\n",
    "plt.axvline(0,color='red') # y = 0\n",
    "plt.show()"
   ]
  },
  {
   "cell_type": "code",
   "execution_count": null,
   "id": "d37a10b4",
   "metadata": {
    "scrolled": true
   },
   "outputs": [],
   "source": [
    "# scenario count\n",
    "q1 = df_pc[(df_pc.total_equalized_pct_change < 0) & (df_pc.mill_real_pct_change > 0)]\n",
    "q2 = df_pc[(df_pc.total_equalized_pct_change > 0) & (df_pc.mill_real_pct_change > 0)]\n",
    "q3 = df_pc[(df_pc.total_equalized_pct_change > 0) & (df_pc.mill_real_pct_change < 0)]\n",
    "q4 = df_pc[(df_pc.total_equalized_pct_change < 0) & (df_pc.mill_real_pct_change < 0)]\n",
    "pos_0 = df_pc[(df_pc.total_equalized_pct_change > 0) & (df_pc.mill_real_pct_change == 0)]\n",
    "neg_0 = df_pc[(df_pc.total_equalized_pct_change < 0) & (df_pc.mill_real_pct_change == 0)]\n",
    "zeros = df_pc[(df_pc.total_equalized_pct_change == 0) & (df_pc.mill_real_pct_change == 0)]\n",
    "\n",
    "print('All Towns - scenarios')\n",
    "print('  grand - mill + ', len(q1), '\\n', ' grand + mill + ', len(q2), '\\n', '*grand + mill - ', len(q3), '\\n', ' grand - mill - ', len(q4), '\\n', ' grand + mill 0 ', len(pos_0), '\\n', ' grand - mill 0 ', len(neg_0), '\\n', ' grand 0 mill 0 ', len(zeros))"
   ]
  },
  {
   "cell_type": "code",
   "execution_count": null,
   "id": "2b87012f",
   "metadata": {},
   "outputs": [],
   "source": [
    "# graph data\n",
    "df_cor_state = df_pc[['mill_real_pct_change', 'total_equalized_pct_change']]\n",
    "df_matrix = df_cor_state.corr().round(2)\n",
    "\n",
    "sns.heatmap(df_matrix, annot=True, vmax = 1, vmin = -1, center = 0, cmap = 'vlag')\n",
    "plt.title('All Towns - correlations')\n",
    "plt.yticks(rotation='horizontal')\n",
    "plt.show()"
   ]
  },
  {
   "cell_type": "code",
   "execution_count": null,
   "id": "3ad5ad0c",
   "metadata": {},
   "outputs": [],
   "source": []
  }
 ],
 "metadata": {
  "kernelspec": {
   "display_name": "Python 3 (ipykernel)",
   "language": "python",
   "name": "python3"
  },
  "language_info": {
   "codemirror_mode": {
    "name": "ipython",
    "version": 3
   },
   "file_extension": ".py",
   "mimetype": "text/x-python",
   "name": "python",
   "nbconvert_exporter": "python",
   "pygments_lexer": "ipython3",
   "version": "3.11.4"
  }
 },
 "nbformat": 4,
 "nbformat_minor": 5
}
